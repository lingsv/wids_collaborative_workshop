{
  "nbformat": 4,
  "nbformat_minor": 0,
  "metadata": {
    "colab": {
      "name": "deteccao_intencao.ipynb",
      "provenance": [],
      "collapsed_sections": [],
      "include_colab_link": true
    },
    "kernelspec": {
      "display_name": "Python 3",
      "language": "python",
      "name": "python3"
    },
    "language_info": {
      "codemirror_mode": {
        "name": "ipython",
        "version": 3
      },
      "file_extension": ".py",
      "mimetype": "text/x-python",
      "name": "python",
      "nbconvert_exporter": "python",
      "pygments_lexer": "ipython3",
      "version": "3.6.9"
    }
  },
  "cells": [
    {
      "cell_type": "markdown",
      "metadata": {
        "id": "view-in-github",
        "colab_type": "text"
      },
      "source": [
        "<a href=\"https://colab.research.google.com/github/lingsv/wids_collaborative_workshop/blob/main/deteccao_intencao.ipynb\" target=\"_parent\"><img src=\"https://colab.research.google.com/assets/colab-badge.svg\" alt=\"Open In Colab\"/></a>"
      ]
    },
    {
      "cell_type": "markdown",
      "metadata": {
        "id": "csEykOqlLF77"
      },
      "source": [
        "### <b>Detecção de intenções</b>\n",
        "#### Para este tutorial, foi utilizado a base de dados <b>SNIPS</b> para a detecção de intenções utilizando o modelo pré-treinado word2vec e KNN\n",
        "\n",
        "#### O que é SNIPS?\n",
        "\n",
        "> É uma tradicional base de dados em inglês, utilizada para avaliação dos modelos NLP para a tarefa de detecção de intenções. Logo, possui frases que expressam pedidos como \"Toque a música x\" ou \"Qual a previsão do tempo em 10 de junho?\" e suas respectivas intenções como \"TocarMusica\" e \"ObterPrevisãoTempo\". Como interpretar a tarefa de detectar intenções como uma classificação de texto. \n",
        "\n",
        "\n",
        "\n",
        "#### Quais as etapas?\n",
        "1. Vizualizar dataset de treino e teste\n",
        "2. Extrair os vetores de palavras (words) com o Word2vec\n",
        "3. Alimentar o classificador com esses vetores e Treinar o Classificador KNN\n",
        "4. Avaliar o Desempenho do classificador com Acurácia e Matriz de confusão"
      ]
    },
    {
      "cell_type": "code",
      "metadata": {
        "id": "Xy8JOczoLF77"
      },
      "source": [
        "#imposts\n",
        "import pandas as pd\n",
        "import string\n",
        "import gensim\n",
        "import numpy as np\n",
        "import gensim.downloader \n",
        "\n"
      ],
      "execution_count": null,
      "outputs": []
    },
    {
      "cell_type": "markdown",
      "metadata": {
        "id": "a2rlLz5CLF77"
      },
      "source": [
        "### 1.  Vizualizar dataset de Treino e Teste"
      ]
    },
    {
      "cell_type": "code",
      "metadata": {
        "colab": {
          "base_uri": "https://localhost:8080/"
        },
        "id": "TktXj3-ziAip",
        "outputId": "58469365-40f5-415f-fd9b-a6ba3f485e7e"
      },
      "source": [
        "# Obtendo a base de treinamento\n",
        "\n",
        "!git clone https://github.com/ZephyrChenzf/SF-ID-Network-For-NLU.git"
      ],
      "execution_count": null,
      "outputs": [
        {
          "output_type": "stream",
          "text": [
            "Cloning into 'SF-ID-Network-For-NLU'...\n",
            "remote: Enumerating objects: 3, done.\u001b[K\n",
            "remote: Counting objects: 100% (3/3), done.\u001b[K\n",
            "remote: Compressing objects: 100% (2/2), done.\u001b[K\n",
            "remote: Total 87 (delta 0), reused 0 (delta 0), pack-reused 84\u001b[K\n",
            "Unpacking objects: 100% (87/87), done.\n"
          ],
          "name": "stdout"
        }
      ]
    },
    {
      "cell_type": "code",
      "metadata": {
        "colab": {
          "base_uri": "https://localhost:8080/",
          "height": 204
        },
        "id": "sYo5SrDZLF77",
        "outputId": "496115cb-43fb-4ac2-9c4a-1e40cfaff9a6"
      },
      "source": [
        "# obter base de treinamento\n",
        "x_treino =pd.read_csv(\"SF-ID-Network-For-NLU/data/snips/train/seq.in\")\n",
        "y_treino =pd.read_csv(\"SF-ID-Network-For-NLU/data/snips/train/label\")\n",
        "\n",
        "# --------- Passando os dados para dataframe -----------------------------------\n",
        "dataset_treino = pd.DataFrame(pd.concat([x_treino,y_treino],axis=1))\n",
        "dataset_treino.columns=['sentences','intent']\n",
        "dataset_treino.head()"
      ],
      "execution_count": null,
      "outputs": [
        {
          "output_type": "execute_result",
          "data": {
            "text/html": [
              "<div>\n",
              "<style scoped>\n",
              "    .dataframe tbody tr th:only-of-type {\n",
              "        vertical-align: middle;\n",
              "    }\n",
              "\n",
              "    .dataframe tbody tr th {\n",
              "        vertical-align: top;\n",
              "    }\n",
              "\n",
              "    .dataframe thead th {\n",
              "        text-align: right;\n",
              "    }\n",
              "</style>\n",
              "<table border=\"1\" class=\"dataframe\">\n",
              "  <thead>\n",
              "    <tr style=\"text-align: right;\">\n",
              "      <th></th>\n",
              "      <th>sentences</th>\n",
              "      <th>intent</th>\n",
              "    </tr>\n",
              "  </thead>\n",
              "  <tbody>\n",
              "    <tr>\n",
              "      <th>0</th>\n",
              "      <td>add step to me to the 50 clásicos playlist</td>\n",
              "      <td>AddToPlaylist</td>\n",
              "    </tr>\n",
              "    <tr>\n",
              "      <th>1</th>\n",
              "      <td>i give this current textbook a rating value of...</td>\n",
              "      <td>RateBook</td>\n",
              "    </tr>\n",
              "    <tr>\n",
              "      <th>2</th>\n",
              "      <td>play the song little robin redbreast</td>\n",
              "      <td>PlayMusic</td>\n",
              "    </tr>\n",
              "    <tr>\n",
              "      <th>3</th>\n",
              "      <td>please add iris dement to my playlist this is ...</td>\n",
              "      <td>AddToPlaylist</td>\n",
              "    </tr>\n",
              "    <tr>\n",
              "      <th>4</th>\n",
              "      <td>add slimm cutta calhoun to my this is prince p...</td>\n",
              "      <td>AddToPlaylist</td>\n",
              "    </tr>\n",
              "  </tbody>\n",
              "</table>\n",
              "</div>"
            ],
            "text/plain": [
              "                                           sentences         intent\n",
              "0        add step to me to the 50 clásicos playlist   AddToPlaylist\n",
              "1  i give this current textbook a rating value of...       RateBook\n",
              "2               play the song little robin redbreast      PlayMusic\n",
              "3  please add iris dement to my playlist this is ...  AddToPlaylist\n",
              "4  add slimm cutta calhoun to my this is prince p...  AddToPlaylist"
            ]
          },
          "metadata": {
            "tags": []
          },
          "execution_count": 9
        }
      ]
    },
    {
      "cell_type": "code",
      "metadata": {
        "colab": {
          "base_uri": "https://localhost:8080/",
          "height": 388
        },
        "id": "J5_KELCDLF78",
        "outputId": "6a63a979-255d-4d8d-bd4d-0ed6a3ccbc7d"
      },
      "source": [
        "dataset_treino['intent'].value_counts().plot(kind = 'bar')"
      ],
      "execution_count": null,
      "outputs": [
        {
          "output_type": "execute_result",
          "data": {
            "text/plain": [
              "<matplotlib.axes._subplots.AxesSubplot at 0x7f7b2ca4f510>"
            ]
          },
          "metadata": {
            "tags": []
          },
          "execution_count": 10
        },
        {
          "output_type": "display_data",
          "data": {
            "image/png": "[encoded data removed]",
            "text/plain": [
              "<Figure size 432x288 with 1 Axes>"
            ]
          },
          "metadata": {
            "tags": [],
            "needs_background": "light"
          }
        }
      ]
    },
    {
      "cell_type": "code",
      "metadata": {
        "colab": {
          "base_uri": "https://localhost:8080/"
        },
        "id": "RKpYFYxGLF78",
        "outputId": "5b610072-f832-43b1-f838-5abf4cc2c53c"
      },
      "source": [
        "dataset_treino['intent'].value_counts()"
      ],
      "execution_count": null,
      "outputs": [
        {
          "output_type": "execute_result",
          "data": {
            "text/plain": [
              "PlayMusic               1913\n",
              "GetWeather              1896\n",
              "BookRestaurant          1881\n",
              "RateBook                1876\n",
              "SearchScreeningEvent    1852\n",
              "SearchCreativeWork      1847\n",
              "AddToPlaylist           1818\n",
              "Name: intent, dtype: int64"
            ]
          },
          "metadata": {
            "tags": []
          },
          "execution_count": 11
        }
      ]
    },
    {
      "cell_type": "code",
      "metadata": {
        "colab": {
          "base_uri": "https://localhost:8080/",
          "height": 173
        },
        "id": "1Dsg5smliw60",
        "outputId": "6883e6e1-dbc3-408f-bcf0-b06fbbd10a5c"
      },
      "source": [
        "dataset_treino.describe()"
      ],
      "execution_count": null,
      "outputs": [
        {
          "output_type": "execute_result",
          "data": {
            "text/html": [
              "<div>\n",
              "<style scoped>\n",
              "    .dataframe tbody tr th:only-of-type {\n",
              "        vertical-align: middle;\n",
              "    }\n",
              "\n",
              "    .dataframe tbody tr th {\n",
              "        vertical-align: top;\n",
              "    }\n",
              "\n",
              "    .dataframe thead th {\n",
              "        text-align: right;\n",
              "    }\n",
              "</style>\n",
              "<table border=\"1\" class=\"dataframe\">\n",
              "  <thead>\n",
              "    <tr style=\"text-align: right;\">\n",
              "      <th></th>\n",
              "      <th>sentences</th>\n",
              "      <th>intent</th>\n",
              "    </tr>\n",
              "  </thead>\n",
              "  <tbody>\n",
              "    <tr>\n",
              "      <th>count</th>\n",
              "      <td>13083</td>\n",
              "      <td>13083</td>\n",
              "    </tr>\n",
              "    <tr>\n",
              "      <th>unique</th>\n",
              "      <td>12894</td>\n",
              "      <td>7</td>\n",
              "    </tr>\n",
              "    <tr>\n",
              "      <th>top</th>\n",
              "      <td>find the movie schedule</td>\n",
              "      <td>PlayMusic</td>\n",
              "    </tr>\n",
              "    <tr>\n",
              "      <th>freq</th>\n",
              "      <td>9</td>\n",
              "      <td>1913</td>\n",
              "    </tr>\n",
              "  </tbody>\n",
              "</table>\n",
              "</div>"
            ],
            "text/plain": [
              "                       sentences     intent\n",
              "count                      13083      13083\n",
              "unique                     12894          7\n",
              "top     find the movie schedule   PlayMusic\n",
              "freq                           9       1913"
            ]
          },
          "metadata": {
            "tags": []
          },
          "execution_count": 12
        }
      ]
    },
    {
      "cell_type": "code",
      "metadata": {
        "colab": {
          "base_uri": "https://localhost:8080/",
          "height": 204
        },
        "id": "DjA6PvD_LF78",
        "outputId": "9e747307-7970-4a4d-80b0-1b491186dea2"
      },
      "source": [
        "\n",
        "x_teste =pd.read_csv(\"SF-ID-Network-For-NLU/data/snips/test/seq.in\")\n",
        "y_teste =pd.read_csv(\"SF-ID-Network-For-NLU/data/snips/test/label\")\n",
        "\n",
        "# --------- Passando os dados para dataframe -----------------------------------\n",
        "\n",
        "dataset_teste = pd.DataFrame(pd.concat([x_teste,y_teste],axis=1))\n",
        "dataset_teste.columns=['sentences','intent']\n",
        "# Viazualizando a tabela\n",
        "dataset_teste.head()\n"
      ],
      "execution_count": null,
      "outputs": [
        {
          "output_type": "execute_result",
          "data": {
            "text/html": [
              "<div>\n",
              "<style scoped>\n",
              "    .dataframe tbody tr th:only-of-type {\n",
              "        vertical-align: middle;\n",
              "    }\n",
              "\n",
              "    .dataframe tbody tr th {\n",
              "        vertical-align: top;\n",
              "    }\n",
              "\n",
              "    .dataframe thead th {\n",
              "        text-align: right;\n",
              "    }\n",
              "</style>\n",
              "<table border=\"1\" class=\"dataframe\">\n",
              "  <thead>\n",
              "    <tr style=\"text-align: right;\">\n",
              "      <th></th>\n",
              "      <th>sentences</th>\n",
              "      <th>intent</th>\n",
              "    </tr>\n",
              "  </thead>\n",
              "  <tbody>\n",
              "    <tr>\n",
              "      <th>0</th>\n",
              "      <td>i want to bring four people to a place that s ...</td>\n",
              "      <td>BookRestaurant</td>\n",
              "    </tr>\n",
              "    <tr>\n",
              "      <th>1</th>\n",
              "      <td>put lindsey cardinale into my hillary clinton ...</td>\n",
              "      <td>AddToPlaylist</td>\n",
              "    </tr>\n",
              "    <tr>\n",
              "      <th>2</th>\n",
              "      <td>will it snow in mt on june 13  2038</td>\n",
              "      <td>GetWeather</td>\n",
              "    </tr>\n",
              "    <tr>\n",
              "      <th>3</th>\n",
              "      <td>play signe anderson chant music that is newest</td>\n",
              "      <td>PlayMusic</td>\n",
              "    </tr>\n",
              "    <tr>\n",
              "      <th>4</th>\n",
              "      <td>can you let me know what animated movies are p...</td>\n",
              "      <td>SearchScreeningEvent</td>\n",
              "    </tr>\n",
              "  </tbody>\n",
              "</table>\n",
              "</div>"
            ],
            "text/plain": [
              "                                           sentences                intent\n",
              "0  i want to bring four people to a place that s ...        BookRestaurant\n",
              "1  put lindsey cardinale into my hillary clinton ...         AddToPlaylist\n",
              "2                will it snow in mt on june 13  2038            GetWeather\n",
              "3     play signe anderson chant music that is newest             PlayMusic\n",
              "4  can you let me know what animated movies are p...  SearchScreeningEvent"
            ]
          },
          "metadata": {
            "tags": []
          },
          "execution_count": 13
        }
      ]
    },
    {
      "cell_type": "code",
      "metadata": {
        "colab": {
          "base_uri": "https://localhost:8080/",
          "height": 385
        },
        "id": "H85dAwW3LF78",
        "outputId": "83f05765-1dff-4ebc-ea11-47380f95662c"
      },
      "source": [
        "dataset_teste['intent'].value_counts().plot(kind = 'bar')"
      ],
      "execution_count": null,
      "outputs": [
        {
          "output_type": "execute_result",
          "data": {
            "text/plain": [
              "<matplotlib.axes._subplots.AxesSubplot at 0x7f7b2ba17790>"
            ]
          },
          "metadata": {
            "tags": []
          },
          "execution_count": 14
        },
        {
          "output_type": "display_data",
          "data": {
            "image/png": "[encoded data removed]",
            "text/plain": [
              "<Figure size 432x288 with 1 Axes>"
            ]
          },
          "metadata": {
            "tags": [],
            "needs_background": "light"
          }
        }
      ]
    },
    {
      "cell_type": "code",
      "metadata": {
        "colab": {
          "base_uri": "https://localhost:8080/"
        },
        "id": "eqhP4j0iLF78",
        "outputId": "bdbe3548-ebad-4daf-d8a1-ddc960c10219"
      },
      "source": [
        "dataset_teste['intent'].value_counts()"
      ],
      "execution_count": null,
      "outputs": [
        {
          "output_type": "execute_result",
          "data": {
            "text/plain": [
              "AddToPlaylist           123\n",
              "SearchScreeningEvent    107\n",
              "SearchCreativeWork      107\n",
              "GetWeather              104\n",
              "BookRestaurant           92\n",
              "PlayMusic                86\n",
              "RateBook                 80\n",
              "Name: intent, dtype: int64"
            ]
          },
          "metadata": {
            "tags": []
          },
          "execution_count": 15
        }
      ]
    },
    {
      "cell_type": "code",
      "metadata": {
        "colab": {
          "base_uri": "https://localhost:8080/",
          "height": 173
        },
        "id": "3CF2hk5o9Zkc",
        "outputId": "641805d5-5857-43bf-f0bc-3e4a05ab5a4c"
      },
      "source": [
        "dataset_teste.describe()"
      ],
      "execution_count": null,
      "outputs": [
        {
          "output_type": "execute_result",
          "data": {
            "text/html": [
              "<div>\n",
              "<style scoped>\n",
              "    .dataframe tbody tr th:only-of-type {\n",
              "        vertical-align: middle;\n",
              "    }\n",
              "\n",
              "    .dataframe tbody tr th {\n",
              "        vertical-align: top;\n",
              "    }\n",
              "\n",
              "    .dataframe thead th {\n",
              "        text-align: right;\n",
              "    }\n",
              "</style>\n",
              "<table border=\"1\" class=\"dataframe\">\n",
              "  <thead>\n",
              "    <tr style=\"text-align: right;\">\n",
              "      <th></th>\n",
              "      <th>sentences</th>\n",
              "      <th>intent</th>\n",
              "    </tr>\n",
              "  </thead>\n",
              "  <tbody>\n",
              "    <tr>\n",
              "      <th>count</th>\n",
              "      <td>699</td>\n",
              "      <td>699</td>\n",
              "    </tr>\n",
              "    <tr>\n",
              "      <th>unique</th>\n",
              "      <td>698</td>\n",
              "      <td>7</td>\n",
              "    </tr>\n",
              "    <tr>\n",
              "      <th>top</th>\n",
              "      <td>find movie times</td>\n",
              "      <td>AddToPlaylist</td>\n",
              "    </tr>\n",
              "    <tr>\n",
              "      <th>freq</th>\n",
              "      <td>2</td>\n",
              "      <td>123</td>\n",
              "    </tr>\n",
              "  </tbody>\n",
              "</table>\n",
              "</div>"
            ],
            "text/plain": [
              "               sentences         intent\n",
              "count                699            699\n",
              "unique               698              7\n",
              "top     find movie times  AddToPlaylist\n",
              "freq                   2            123"
            ]
          },
          "metadata": {
            "tags": []
          },
          "execution_count": 16
        }
      ]
    },
    {
      "cell_type": "markdown",
      "metadata": {
        "id": "0QCr4RcMLF78"
      },
      "source": [
        "### 2. Extrair os vetores de palavras (words) com o Word2vec\n",
        "\n",
        "\n",
        "\n",
        "\n",
        "\n",
        "\n"
      ]
    },
    {
      "cell_type": "markdown",
      "metadata": {
        "id": "0NFUyzKjjPTO"
      },
      "source": [
        "### <b>Quem é Word2vec?</b>\n",
        "> O Word2vec é um dos algoritmos classificos de NLP que fazem a conversão de palavras em um vetor númerico (como na abstração dos vetores vista no workshop). Está técnica é composta por uam rede neural e pode ser operada em duas abordagens ( conforme a imagem a baixo).\n",
        "\n",
        "* <b>Abordagem CBOW:</b>\n",
        "> Durante o treinamento a rede deve prever a palavra do meio da frase. Por exemplo se tenho a frase <b>ELA ASSISTIU ___  NA SEGUNDA-FEIRA</b>, o espaço em branco deve ser preenchido com a palavra <b>AULA</b>\n",
        "\n",
        "* <b> Abordagem Skip-Gram:</b>\n",
        "> Está abordagem de treinamento fornece apenas uma palavra e a rede apresentar as palavras ao redor. Por exemplo, forneço a rede a palavra <b>AULA</b>, o modelo deve retornar palavras vizinhas como <b>ELA</b>, <b>ASSISTE</b>, <b>NA SEGUNDA - FEIRA</b> ou palavras similares que dão sentido a palavra fornecida \"AULA\". Veja que, treinamento a rede neural por muitas iterações e com muitos dados, os pesos destas redes acabarão gerando os vetores representativos de cada palavra o vocabulário.\n",
        "\n",
        "![image.png](data:image/png;base64,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)"
      ]
    },
    {
      "cell_type": "markdown",
      "metadata": {
        "id": "W5fUjcmlm4Dv"
      },
      "source": [
        "### Para mais edtalhes do Word2vec\n",
        "> [Artigo públicado pelos autores](https://arxiv.org/pdf/1301.3781.pdf)\n",
        "\n",
        "> [Explicação mais detalhada em português ](https://medium.com/@everton.tomalok/word2vec-e-sua-import%C3%A2ncia-na-etapa-de-pr%C3%A9-processamento-d0813acfc8ab)"
      ]
    },
    {
      "cell_type": "markdown",
      "metadata": {
        "id": "Um32pmttpRoZ"
      },
      "source": [
        "#### Para o tutorial de hoje, usaremos um modelo <b>Pré-treinado</b> ou seja, modelo do word2vec já treinado com muitos dados em inglês. Iremos fazer o carregamento do modelo pelo framework <b>Gensim</b>.\n",
        "\n",
        "> Neste [link](https://radimrehurek.com/gensim/models/word2vec.html) possui mais informações do Gensim\n",
        "\n",
        "> [Link Word2vec google](https://code.google.com/archive/p/word2vec/)"
      ]
    },
    {
      "cell_type": "code",
      "metadata": {
        "colab": {
          "base_uri": "https://localhost:8080/"
        },
        "id": "Nsiz54izsgR2",
        "outputId": "ea3bedd2-1c84-4b74-ca91-2bcd55b7396c"
      },
      "source": [
        "from google.colab import drive\n",
        "drive.mount('/content/drive')"
      ],
      "execution_count": null,
      "outputs": [
        {
          "output_type": "stream",
          "text": [
            "Drive already mounted at /content/drive; to attempt to forcibly remount, call drive.mount(\"/content/drive\", force_remount=True).\n"
          ],
          "name": "stdout"
        }
      ]
    },
    {
      "cell_type": "code",
      "metadata": {
        "id": "4x2tX2YUoA0q"
      },
      "source": [
        "!gzip -d  /content/drive/MyDrive/code-workshop/GoogleNews-vectors-negative300.bin.gz"
      ],
      "execution_count": null,
      "outputs": []
    },
    {
      "cell_type": "code",
      "metadata": {
        "id": "g9dXXP98osif"
      },
      "source": [
        "from gensim.models import KeyedVectors\n",
        "\n",
        "word2vec_model = KeyedVectors.load_word2vec_format('/content/drive/MyDrive/code-workshop/GoogleNews-vectors-negative300.bin', binary=True)\n"
      ],
      "execution_count": null,
      "outputs": []
    },
    {
      "cell_type": "code",
      "metadata": {
        "id": "pRzquMjOqi1I",
        "colab": {
          "base_uri": "https://localhost:8080/"
        },
        "outputId": "107d3190-2a5e-4854-ba24-582eb17814e4"
      },
      "source": [
        "# Fazendo alguns testes no modelo\n",
        "print('Vetor da palavra Home: ', word2vec_model['home'])\n",
        "print('----------------------------')\n",
        "print('Tamanho do vetor: ', len(word2vec_model['home']))"
      ],
      "execution_count": null,
      "outputs": [
        {
          "output_type": "stream",
          "text": [
            "Vetor da palavra Home:  [-0.01184082  0.07958984  0.0168457  -0.08984375  0.08642578  0.02416992\n",
            "  0.0255127  -0.18945312  0.14160156  0.08447266  0.16992188 -0.25\n",
            " -0.0534668  -0.02832031  0.04541016 -0.14746094  0.01226807  0.05639648\n",
            "  0.01953125  0.21582031  0.15722656 -0.15917969  0.08837891 -0.10595703\n",
            " -0.00408936 -0.02331543 -0.04931641  0.08154297  0.03808594  0.00177002\n",
            "  0.05517578  0.03735352 -0.14648438 -0.03808594 -0.05517578  0.01135254\n",
            " -0.07861328 -0.14941406  0.09033203  0.03710938  0.08837891 -0.01483154\n",
            "  0.18261719  0.09667969 -0.05517578  0.16308594  0.03955078  0.1640625\n",
            "  0.08398438  0.0279541  -0.03442383  0.296875    0.140625    0.09863281\n",
            " -0.18457031 -0.26367188 -0.12109375  0.18261719  0.02282715 -0.04248047\n",
            " -0.02062988  0.08251953 -0.00140381  0.02246094 -0.07617188  0.02709961\n",
            " -0.04711914  0.05639648 -0.00250244  0.11328125  0.12890625 -0.09667969\n",
            "  0.06738281 -0.08154297 -0.10546875  0.06982422 -0.02294922  0.00622559\n",
            "  0.01843262 -0.02612305  0.05786133  0.07714844  0.01019287  0.1796875\n",
            "  0.12988281 -0.04711914 -0.16699219  0.24707031 -0.03027344  0.05224609\n",
            " -0.14746094  0.06738281 -0.05615234 -0.48632812 -0.00769043 -0.02685547\n",
            "  0.08398438 -0.02868652 -0.07080078 -0.08203125 -0.01989746 -0.18847656\n",
            "  0.18652344  0.18554688 -0.05200195 -0.12792969  0.10107422  0.08007812\n",
            "  0.11669922 -0.21875     0.11962891  0.05859375  0.01422119 -0.16210938\n",
            "  0.10302734  0.07910156 -0.00204468  0.15234375 -0.07128906  0.07470703\n",
            " -0.14550781 -0.02868652  0.06689453  0.01879883 -0.05224609  0.0055542\n",
            " -0.05395508 -0.09033203 -0.07568359  0.10791016  0.04077148 -0.15429688\n",
            " -0.00665283  0.04711914 -0.19921875 -0.19140625  0.01348877 -0.09765625\n",
            " -0.06982422  0.11230469 -0.25        0.01696777  0.12695312 -0.12353516\n",
            "  0.03564453  0.06201172 -0.04980469  0.109375   -0.09619141 -0.04736328\n",
            "  0.06884766  0.04345703  0.06445312  0.11230469 -0.171875   -0.05688477\n",
            " -0.07470703 -0.12060547  0.1015625  -0.09570312 -0.25976562  0.16796875\n",
            "  0.07421875 -0.11523438  0.05957031 -0.06494141 -0.00628662 -0.05102539\n",
            "  0.02368164  0.02307129 -0.23730469 -0.12695312 -0.00939941 -0.10644531\n",
            " -0.05957031  0.08349609  0.21679688  0.01239014 -0.18945312  0.26171875\n",
            " -0.16015625 -0.03100586  0.13867188 -0.01470947  0.04882812 -0.16210938\n",
            "  0.03564453  0.16113281 -0.01623535 -0.07080078  0.03833008 -0.12890625\n",
            "  0.20605469  0.03344727 -0.19335938  0.14453125  0.10107422  0.07324219\n",
            " -0.06030273  0.01489258 -0.16601562  0.02819824 -0.1015625  -0.15429688\n",
            "  0.09667969  0.01721191 -0.00576782  0.08251953  0.07080078 -0.1796875\n",
            " -0.09326172  0.01733398 -0.23925781 -0.03344727 -0.15234375  0.12792969\n",
            " -0.04370117  0.09082031 -0.35546875 -0.02502441  0.125      -0.02770996\n",
            " -0.03881836 -0.04931641 -0.11865234 -0.01324463 -0.03393555  0.18164062\n",
            " -0.01818848  0.04956055  0.03149414  0.00823975 -0.13183594 -0.12304688\n",
            " -0.11865234  0.28710938  0.00830078 -0.09326172 -0.09423828  0.04492188\n",
            " -0.04052734 -0.16503906 -0.04077148 -0.13183594 -0.08300781  0.2421875\n",
            "  0.06494141  0.15234375  0.16796875 -0.07617188  0.12792969  0.07470703\n",
            "  0.21679688  0.01733398 -0.13378906  0.05297852 -0.12988281  0.00125122\n",
            " -0.04858398  0.15917969 -0.12353516 -0.05249023  0.07666016  0.0625\n",
            "  0.24121094  0.11572266 -0.04394531 -0.02160645 -0.12792969  0.02368164\n",
            "  0.24414062  0.04907227  0.20996094 -0.140625    0.12060547 -0.05322266\n",
            "  0.01367188 -0.10791016  0.1484375  -0.15527344  0.14941406 -0.12109375\n",
            " -0.06054688  0.20410156 -0.10205078  0.02624512  0.03222656  0.07861328\n",
            " -0.16796875  0.14355469 -0.1953125   0.03930664 -0.10986328  0.00750732\n",
            "  0.05883789 -0.05200195 -0.02990723 -0.13671875  0.15332031 -0.00793457]\n",
            "----------------------------\n",
            "Tamanho do vetor:  300\n"
          ],
          "name": "stdout"
        }
      ]
    },
    {
      "cell_type": "code",
      "metadata": {
        "id": "a2QPy-gpLF78"
      },
      "source": [
        "#Função para obter os vetores de palavras\n",
        "\n",
        "def word2vec_extract(words, word2vec_model):\n",
        "    \"\"\"extract features model word2vec.\n",
        "    \"\"\"\n",
        "    vector = []\n",
        "    # A cada sentença é quebrada em um vetor de palavras.\n",
        "    for word in words.split(' '):\n",
        "        word = word.lower()\n",
        "        if word in word2vec_model:\n",
        "            vector.append(word2vec_model[word])\n",
        "    if len(vector) != 0:\n",
        "        vector = np.mean(vector, axis=0)\n",
        "    else:\n",
        "        vector = np.zeros(vec.vector_size)\n",
        "\n",
        "    return vector\n",
        "\n",
        "# Metodo que obtêm  os vetores de cada asbstract\n",
        "def get_vectors(dataset, word2vec):\n",
        "    vector= []\n",
        "    for index, row in dataset.iterrows():\n",
        "        vector.append(word2vec_extract(row['sentences'],word2vec))\n",
        "    return vector\n",
        "\n"
      ],
      "execution_count": null,
      "outputs": []
    },
    {
      "cell_type": "code",
      "metadata": {
        "id": "reBhldx1LF78",
        "colab": {
          "base_uri": "https://localhost:8080/"
        },
        "outputId": "cfe3067b-20eb-4ab4-f1e5-9327c441eb8a"
      },
      "source": [
        "# Converter as frases em vetores \n",
        "dataset_train_vectors = get_vectors(dataset_treino, word2vec_model)\n",
        "dataset_test_vectors = get_vectors(dataset_teste, word2vec_model)\n",
        "\n",
        "\n",
        "dataset_test_vectors[0]"
      ],
      "execution_count": null,
      "outputs": [
        {
          "output_type": "execute_result",
          "data": {
            "text/plain": [
              "array([-4.75049689e-02,  1.88996457e-02,  6.53250590e-02,  1.14693776e-01,\n",
              "       -3.02516390e-02,  9.54328291e-03,  1.81623194e-02, -7.07833394e-02,\n",
              "        2.70538330e-02,  6.24651238e-02, -8.11898336e-02, -2.48750951e-02,\n",
              "        2.31323242e-02, -4.54275962e-03,  1.27301896e-02,  9.96311754e-02,\n",
              "       -5.98144531e-03,  5.77130988e-02,  9.38742515e-03, -5.42776939e-03,\n",
              "       -8.59688371e-02,  3.19039486e-02,  3.87398861e-02, -3.13153937e-02,\n",
              "        1.05961394e-02, -4.91594598e-02, -7.78402910e-02,  3.51355411e-02,\n",
              "       -8.72802734e-03, -5.18270209e-02, -1.79836415e-02,  2.79628206e-02,\n",
              "       -4.62624691e-02,  8.57979897e-03, -1.24816895e-02, -3.68216373e-02,\n",
              "        7.39833293e-03, -2.03530453e-02, -2.36860011e-02,  8.91810805e-02,\n",
              "        1.57394409e-02, -2.15192530e-02,  5.95092773e-02,  5.46351857e-02,\n",
              "       -4.49393131e-02, -8.62077996e-02, -4.69534732e-02, -2.42091585e-02,\n",
              "        1.56424381e-02,  6.49326891e-02, -7.26318359e-03,  1.33492604e-01,\n",
              "        2.77622771e-02, -3.61328125e-02,  1.94091797e-02,  6.47670180e-02,\n",
              "       -4.75670956e-02, -1.95530485e-02,  7.77544314e-03, -8.43157098e-02,\n",
              "       -2.31061671e-02,  6.74918070e-02, -1.28400534e-01, -5.62635139e-02,\n",
              "       -3.32205626e-03, -8.31386000e-02, -7.84236342e-02,  6.69119731e-02,\n",
              "       -1.28130233e-02,  4.83485647e-02,  7.65773207e-02,  2.91748047e-02,\n",
              "        9.03930664e-02, -2.13732030e-02, -1.03053503e-01, -1.02190293e-01,\n",
              "       -3.81208137e-02,  3.31137516e-02,  4.00652215e-02,  4.66744564e-02,\n",
              "       -1.37928557e-02, -1.31530762e-01,  6.73501119e-02,  1.81056429e-02,\n",
              "       -6.85817152e-02,  6.77381223e-03, -1.06009349e-01,  1.28278464e-01,\n",
              "       -4.80521061e-02, -4.42068912e-02,  5.91430664e-02, -4.53491211e-02,\n",
              "       -8.21031854e-02, -7.41620734e-02, -3.22004035e-02, -3.12467311e-02,\n",
              "       -2.06342433e-02,  1.57383515e-03,  6.97871624e-03,  1.85634065e-02,\n",
              "       -8.21533203e-02, -5.32749714e-03,  3.43976691e-02,  7.26928711e-02,\n",
              "        1.90124512e-02, -3.93240787e-02,  6.81849895e-03, -5.87419793e-02,\n",
              "       -2.21846439e-02, -6.03637695e-02, -1.34660989e-01, -1.17449081e-02,\n",
              "       -3.68903019e-02, -8.04661363e-02,  1.09682359e-01,  3.47551629e-02,\n",
              "        4.58112434e-02, -3.06004118e-02,  4.87758107e-02, -2.85382960e-02,\n",
              "       -5.19060418e-02, -2.34723780e-02, -8.50023553e-02,  7.43669793e-02,\n",
              "        7.93675054e-03, -1.36893140e-02, -6.50939941e-02, -4.72063348e-02,\n",
              "        1.82015561e-02, -7.11659016e-03, -6.49849996e-02, -7.88922980e-02,\n",
              "        7.37653440e-03,  1.04849683e-02, -3.63404416e-02,  2.74222228e-03,\n",
              "        3.99840213e-02, -2.46666502e-02,  3.68608758e-02,  9.16094109e-02,\n",
              "        2.27443147e-02, -7.92497918e-02,  1.17797852e-02, -4.87496518e-02,\n",
              "        4.95300293e-02,  2.57170536e-02, -4.14712094e-02, -2.27922704e-02,\n",
              "       -8.65783691e-02,  2.78353002e-02,  8.11070055e-02,  6.58394918e-02,\n",
              "       -6.62144274e-02,  3.69698666e-02, -4.35071662e-02, -5.27409129e-02,\n",
              "       -6.51332317e-03, -4.95256707e-02, -1.16333008e-01, -3.40074822e-02,\n",
              "       -3.04303858e-02,  5.74515201e-02, -2.24151611e-02,  4.20663022e-02,\n",
              "        4.51660156e-02, -1.82800293e-02,  4.76357602e-02, -4.63431235e-03,\n",
              "        5.81795834e-02, -7.85260871e-02, -1.56598777e-01,  1.29656112e-02,\n",
              "        2.68729068e-02, -8.66197869e-02,  4.00227122e-02,  3.16903256e-02,\n",
              "        8.04181769e-02, -3.12521793e-02,  5.37545327e-03, -1.01667130e-02,\n",
              "       -1.06728688e-01, -5.90895228e-02, -1.01222992e-02, -7.55331889e-02,\n",
              "        1.41121997e-02, -5.35997674e-02,  2.53579281e-02,  4.74123284e-02,\n",
              "        8.68007094e-02,  1.32184708e-02,  5.32052182e-02,  6.44269660e-02,\n",
              "        3.07486393e-02, -3.08903288e-02, -4.53316830e-02,  5.40161133e-02,\n",
              "       -2.61753630e-02,  4.73632812e-02, -8.16693977e-02, -1.31849021e-01,\n",
              "       -3.47595215e-02,  8.97914320e-02, -2.16114856e-02, -7.81348124e-02,\n",
              "       -2.33590268e-02, -1.05573379e-01, -2.24958151e-03, -1.95530476e-03,\n",
              "        2.89655421e-02,  1.39508927e-02, -5.88144585e-02,  8.51571187e-02,\n",
              "       -3.50227356e-02,  7.08661750e-02, -7.15855211e-02,  7.47767836e-02,\n",
              "        6.98198602e-02,  2.33026240e-02, -1.46623880e-01,  5.15877865e-02,\n",
              "        1.94266178e-02,  3.56597900e-02, -9.03974287e-03,  1.65775849e-03,\n",
              "        6.75310418e-02, -4.82068732e-02,  3.76979299e-02,  6.79561049e-02,\n",
              "       -3.30810547e-02,  8.33391473e-02,  4.80215903e-03, -1.09644212e-01,\n",
              "       -4.49708514e-02,  1.16001673e-01,  9.34797004e-02, -4.89812568e-02,\n",
              "        4.51736450e-02,  2.50331331e-02,  7.75015727e-02,  3.20870541e-02,\n",
              "        9.49859619e-02, -3.19519043e-02,  2.76838038e-02, -9.08748060e-02,\n",
              "        3.41796875e-03,  1.64271761e-02,  5.42820506e-02,  1.81427002e-02,\n",
              "        5.88438921e-02, -4.01120856e-02, -5.33229299e-02,  8.82568359e-02,\n",
              "        2.81677246e-02,  1.43694198e-02,  7.85217285e-02, -8.68235976e-02,\n",
              "        6.50700182e-02,  1.50277270e-02, -1.12033300e-01, -3.60281803e-02,\n",
              "        2.38560271e-02, -3.19998600e-02,  2.21557617e-02,  3.88783030e-02,\n",
              "        7.42885023e-02,  6.26046285e-02,  8.71930843e-06, -4.14254330e-02,\n",
              "       -1.01745605e-01, -1.53895784e-02,  1.63748600e-02,  5.80095574e-02,\n",
              "        5.72618768e-02,  2.06211638e-02,  7.06438348e-02, -9.34339240e-02,\n",
              "       -6.25435933e-02, -8.05636793e-02, -4.77774478e-02, -4.82526496e-02,\n",
              "       -4.69142385e-02, -2.09437776e-02, -1.64882112e-02,  7.07310289e-02,\n",
              "       -2.49720979e-02,  3.47726010e-02, -9.40181166e-02, -2.04511378e-02,\n",
              "       -6.35572150e-02,  1.51890349e-02, -7.65555277e-02,  2.71519255e-02,\n",
              "       -1.17549352e-01,  8.28857422e-02,  1.01318359e-02,  8.02176364e-04,\n",
              "        4.49959897e-02, -3.07791568e-02,  1.08590260e-01, -3.92826609e-02],\n",
              "      dtype=float32)"
            ]
          },
          "metadata": {
            "tags": []
          },
          "execution_count": 64
        }
      ]
    },
    {
      "cell_type": "markdown",
      "metadata": {
        "id": "JD9luys4LF7_"
      },
      "source": [
        "### 3. Alimentar o classificador com esses vetores e Treinar o Classificador \n",
        "#### O classificador tem com objetivo aprender a diferenciar classes de exemplos, no nosso caso deve aprender a diferenciar as intensões.\n",
        "#### Para isso iremos usar o KNN como classificador."
      ]
    },
    {
      "cell_type": "code",
      "metadata": {
        "id": "eMiOA-CnLF7_",
        "colab": {
          "base_uri": "https://localhost:8080/"
        },
        "outputId": "4d28f045-48a3-47e2-bbc2-fa888329e177"
      },
      "source": [
        "from sklearn.neighbors import KNeighborsClassifier\n",
        "Knn = KNeighborsClassifier(n_neighbors=3)\n",
        "\n",
        "# Treinando o modelo com a nossos vetores dos abstract da base de treino\n",
        "\n",
        "Knn.fit(dataset_train_vectors, dataset_treino['intent'])"
      ],
      "execution_count": null,
      "outputs": [
        {
          "output_type": "execute_result",
          "data": {
            "text/plain": [
              "KNeighborsClassifier(algorithm='auto', leaf_size=30, metric='minkowski',\n",
              "                     metric_params=None, n_jobs=None, n_neighbors=3, p=2,\n",
              "                     weights='uniform')"
            ]
          },
          "metadata": {
            "tags": []
          },
          "execution_count": 58
        }
      ]
    },
    {
      "cell_type": "code",
      "metadata": {
        "id": "bVYY0qrJLF7_"
      },
      "source": [
        "# Obtendo as predições com a base de teste, \n",
        "#com essas predições consiguiremos avaliar se nosso modelo aprendeu a diferenciar os abstracts\n",
        "\n",
        "classes_preditas = Knn.predict(dataset_test_vectors)\n"
      ],
      "execution_count": null,
      "outputs": []
    },
    {
      "cell_type": "code",
      "metadata": {
        "id": "UW70IOOlLF7_",
        "colab": {
          "base_uri": "https://localhost:8080/"
        },
        "outputId": "1a9ce527-b4da-4303-d39b-f8ac2541caef"
      },
      "source": [
        "#mostrar as 10 primeiras\n",
        "classes_preditas[:10]"
      ],
      "execution_count": null,
      "outputs": [
        {
          "output_type": "execute_result",
          "data": {
            "text/plain": [
              "array(['BookRestaurant', 'AddToPlaylist', 'GetWeather', 'PlayMusic',\n",
              "       'SearchScreeningEvent', 'BookRestaurant', 'GetWeather',\n",
              "       'SearchScreeningEvent', 'BookRestaurant', 'SearchScreeningEvent'],\n",
              "      dtype=object)"
            ]
          },
          "metadata": {
            "tags": []
          },
          "execution_count": 60
        }
      ]
    },
    {
      "cell_type": "markdown",
      "metadata": {
        "id": "vzaSCpVsLF7_"
      },
      "source": [
        "### 4.Avaliar o Desempenho do classificador com Acurácia e Matriz de confusão\n",
        "\n",
        "#### Nosso objetivo é verificar se as classes previstas pelo nosso modelo realmente condiz com a realidade, para isso usaremos:\n",
        "1. Acurácia\n",
        "2. Matriz de confusão"
      ]
    },
    {
      "cell_type": "code",
      "metadata": {
        "id": "7G4ByQT2LF7_",
        "colab": {
          "base_uri": "https://localhost:8080/"
        },
        "outputId": "38da581b-f76a-46f8-eb97-f89d5c10152b"
      },
      "source": [
        "from sklearn.metrics import accuracy_score # Acurácia\n",
        "\n",
        "# Obtendo acurácia\n",
        "\n",
        "#Avaliando a acurácia\n",
        "\n",
        "print('Acurácia do modelo KNN: ', str(accuracy_score(dataset_teste['intent'], classes_preditas)))"
      ],
      "execution_count": null,
      "outputs": [
        {
          "output_type": "stream",
          "text": [
            "Acurácia do modelo KNN:  0.944206008583691\n"
          ],
          "name": "stdout"
        }
      ]
    },
    {
      "cell_type": "code",
      "metadata": {
        "id": "VT1Sd2wnLF7_",
        "colab": {
          "base_uri": "https://localhost:8080/",
          "height": 621
        },
        "outputId": "679e110d-8973-416c-8dbb-dfe7f17eb689"
      },
      "source": [
        "from sklearn.metrics import plot_confusion_matrix\n",
        "import matplotlib.pyplot as plt\n",
        "# Gerar matriz de confusão\n",
        "\n",
        "fig, ax = plt.subplots(figsize=(16, 10))\n",
        "matrix = plot_confusion_matrix(Knn, dataset_test_vectors, dataset_teste['intent'],\n",
        "                                 cmap=plt.cm.Blues,ax=ax)\n",
        "plt.title('Matriz de confusão')\n",
        "plt.show(matrix)\n",
        "plt.show()\n",
        "\n"
      ],
      "execution_count": null,
      "outputs": [
        {
          "output_type": "display_data",
          "data": {
            "image/png": "[encoded data removed]",
            "text/plain": [
              "<Figure size 1152x720 with 2 Axes>"
            ]
          },
          "metadata": {
            "tags": [],
            "needs_background": "light"
          }
        }
      ]
    },
    {
      "cell_type": "code",
      "metadata": {
        "id": "9pOaz8SYLF7_",
        "colab": {
          "base_uri": "https://localhost:8080/"
        },
        "outputId": "8b45fbb3-3c4e-4c8f-9b58-fcafc63bd115"
      },
      "source": [
        "# Vamos obter os resultados das métricas F1-score e um relatório mais completo de avaliação\n",
        "from sklearn.metrics import classification_report\n",
        "\n",
        "print(classification_report( dataset_teste['intent'], classes_preditas))\n"
      ],
      "execution_count": null,
      "outputs": [
        {
          "output_type": "stream",
          "text": [
            "                      precision    recall  f1-score   support\n",
            "\n",
            "       AddToPlaylist       0.98      0.95      0.97       123\n",
            "      BookRestaurant       0.98      1.00      0.99        92\n",
            "          GetWeather       0.98      0.99      0.99       104\n",
            "           PlayMusic       0.84      0.97      0.90        86\n",
            "            RateBook       1.00      1.00      1.00        80\n",
            "  SearchCreativeWork       0.88      0.86      0.87       107\n",
            "SearchScreeningEvent       0.95      0.86      0.90       107\n",
            "\n",
            "            accuracy                           0.94       699\n",
            "           macro avg       0.94      0.95      0.94       699\n",
            "        weighted avg       0.94      0.94      0.94       699\n",
            "\n"
          ],
          "name": "stdout"
        }
      ]
    }
  ]
}